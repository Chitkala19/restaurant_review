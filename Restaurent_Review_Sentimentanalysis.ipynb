{
  "nbformat": 4,
  "nbformat_minor": 0,
  "metadata": {
    "colab": {
      "provenance": [],
      "include_colab_link": true
    },
    "kernelspec": {
      "name": "python3",
      "display_name": "Python 3"
    },
    "language_info": {
      "name": "python"
    }
  },
  "cells": [
    {
      "cell_type": "markdown",
      "metadata": {
        "id": "view-in-github",
        "colab_type": "text"
      },
      "source": [
        "<a href=\"https://colab.research.google.com/github/Chitkala19/restaurant_review/blob/main/Restaurent_Review_Sentimentanalysis.ipynb\" target=\"_parent\"><img src=\"https://colab.research.google.com/assets/colab-badge.svg\" alt=\"Open In Colab\"/></a>"
      ]
    },
    {
      "cell_type": "code",
      "execution_count": 1,
      "metadata": {
        "colab": {
          "base_uri": "https://localhost:8080/"
        },
        "id": "WZqbx3-y6YS5",
        "outputId": "d5863adf-3e4d-44c7-d8f4-5ec88e238af1"
      },
      "outputs": [
        {
          "output_type": "stream",
          "name": "stderr",
          "text": [
            "[nltk_data] Downloading package stopwords to /root/nltk_data...\n",
            "[nltk_data]   Unzipping corpora/stopwords.zip.\n",
            "[nltk_data] Downloading package punkt to /root/nltk_data...\n",
            "[nltk_data]   Unzipping tokenizers/punkt.zip.\n",
            "[nltk_data] Downloading package wordnet to /root/nltk_data...\n",
            "[nltk_data] Downloading package vader_lexicon to /root/nltk_data...\n"
          ]
        }
      ],
      "source": [
        "#libraries\n",
        "import numpy as np\n",
        "import pandas as pd\n",
        "# from google.colab import drive\n",
        "import unicodedata\n",
        "from nltk.tokenize import word_tokenize\n",
        "from nltk.corpus import stopwords\n",
        "from nltk.stem import WordNetLemmatizer\n",
        "import re\n",
        "import nltk\n",
        "nltk.download('stopwords')\n",
        "nltk.download('punkt')\n",
        "nltk.download('wordnet')\n",
        "nltk.download('vader_lexicon')\n",
        "from nltk.corpus import wordnet\n",
        "from nltk.stem import PorterStemmer\n",
        "from sklearn.preprocessing import LabelEncoder\n",
        "from nltk.sentiment import SentimentIntensityAnalyzer\n",
        "from nltk.sentiment.vader import SentimentIntensityAnalyzer\n",
        "from sklearn.model_selection import train_test_split\n",
        "from sklearn.svm import LinearSVC\n",
        "from sklearn import svm\n",
        "from sklearn.naive_bayes import MultinomialNB\n",
        "from sklearn.linear_model import LogisticRegression\n",
        "from sklearn.feature_extraction.text import CountVectorizer, TfidfTransformer\n",
        "from sklearn.feature_extraction.text import TfidfVectorizer\n",
        "from sklearn.pipeline import Pipeline\n",
        "from sklearn.metrics import confusion_matrix\n",
        "from sklearn.metrics import classification_report\n",
        "from sklearn.metrics import accuracy_score\n",
        "from sklearn.model_selection import GridSearchCV\n",
        "from sklearn.ensemble import RandomForestClassifier\n",
        "from sklearn.tree import DecisionTreeClassifier\n",
        "from sklearn.ensemble import VotingClassifier\n",
        "import joblib"
      ]
    },
    {
      "cell_type": "code",
      "source": [
        "data_set = pd.read_csv('/content/dataset_2.csv',encoding='latin-1')\n"
      ],
      "metadata": {
        "id": "MGN4yVH-6poZ"
      },
      "execution_count": 2,
      "outputs": []
    },
    {
      "cell_type": "code",
      "source": [
        "\n",
        "\n",
        "# Print first 5 rows\n",
        "print(\"Top 5 rows of dataset\")\n",
        "print(data_set.describe())\n",
        "\n",
        "# Print random 10 rows\n",
        "print(\"Random 10 rows\")\n",
        "print(data_set.sample(10))\n",
        "\n",
        "# Print total number of rows and columns in dataset\n",
        "print(\"Total rows and columns in dataset\")\n",
        "print(data_set.shape)\n",
        "\n",
        "# Print number of rows and columns in dataset separately\n",
        "print(\"Total Rows =\", data_set.shape[0])\n",
        "print(\"Total Columns =\", data_set.shape[1])\n",
        "\n",
        "print(\"Columns in dataset\")\n",
        "print(data_set.columns)\n",
        "\n",
        "#Check information of dataset\n",
        "print(\"Dataset information\")\n",
        "print(data_set.info())\n"
      ],
      "metadata": {
        "colab": {
          "base_uri": "https://localhost:8080/"
        },
        "id": "3s5d3bMK6qig",
        "outputId": "50192b19-5abc-46eb-ee5a-9630e99547a4"
      },
      "execution_count": 3,
      "outputs": [
        {
          "output_type": "stream",
          "name": "stdout",
          "text": [
            "Top 5 rows of dataset\n",
            "           review sentiment\n",
            "count       35398     35398\n",
            "unique      23274         4\n",
            "top     Excellent  positive\n",
            "freq         2166     18437\n",
            "Random 10 rows\n",
            "                                                  review sentiment\n",
            "30987                                          Excellent  positive\n",
            "6365               Very quick service but not very clean  negative\n",
            "7656                                                Poor  negative\n",
            "13237  Very bad service. Do not give receipt. Do not ...  negative\n",
            "34641  (It wasn't busy either) Also, the building was...  negative\n",
            "1489                                           Excellent  positive\n",
            "30403  Busy but orders are right. Needs someone on th...  positive\n",
            "32283        Got me waiting for to long to take my order   neutral\n",
            "28127                   Don't like to order on a machine  negative\n",
            "11835                              Quick breakfast place   neutral\n",
            "Total rows and columns in dataset\n",
            "(35398, 2)\n",
            "Total Rows = 35398\n",
            "Total Columns = 2\n",
            "Columns in dataset\n",
            "Index(['review', 'sentiment'], dtype='object')\n",
            "Dataset information\n",
            "<class 'pandas.core.frame.DataFrame'>\n",
            "RangeIndex: 35398 entries, 0 to 35397\n",
            "Data columns (total 2 columns):\n",
            " #   Column     Non-Null Count  Dtype \n",
            "---  ------     --------------  ----- \n",
            " 0   review     35398 non-null  object\n",
            " 1   sentiment  35398 non-null  object\n",
            "dtypes: object(2)\n",
            "memory usage: 553.2+ KB\n",
            "None\n"
          ]
        }
      ]
    },
    {
      "cell_type": "code",
      "source": [
        "data_set.describe()\n",
        "\n",
        "data_set.head()"
      ],
      "metadata": {
        "colab": {
          "base_uri": "https://localhost:8080/",
          "height": 206
        },
        "id": "RadAHtGU6qmU",
        "outputId": "de8feacb-f155-4a95-98d2-2e9bb39c0655"
      },
      "execution_count": 4,
      "outputs": [
        {
          "output_type": "execute_result",
          "data": {
            "text/plain": [
              "                                              review sentiment\n",
              "0  Why does it look like someone spit on my food?...  positive\n",
              "1  It'd McDonalds. It is what it is as far as the...  positive\n",
              "2  Made a mobile order got to the speaker and che...  negative\n",
              "3  My mc. Crispy chicken sandwich was Ã¯Â¿Â½Ã¯Â¿Â...   neutral\n",
              "4  I repeat my order 3 times in the drive thru, a...  negative"
            ],
            "text/html": [
              "\n",
              "  <div id=\"df-a5d7ea4e-6ca7-4795-bcf3-bf895fa5fe94\" class=\"colab-df-container\">\n",
              "    <div>\n",
              "<style scoped>\n",
              "    .dataframe tbody tr th:only-of-type {\n",
              "        vertical-align: middle;\n",
              "    }\n",
              "\n",
              "    .dataframe tbody tr th {\n",
              "        vertical-align: top;\n",
              "    }\n",
              "\n",
              "    .dataframe thead th {\n",
              "        text-align: right;\n",
              "    }\n",
              "</style>\n",
              "<table border=\"1\" class=\"dataframe\">\n",
              "  <thead>\n",
              "    <tr style=\"text-align: right;\">\n",
              "      <th></th>\n",
              "      <th>review</th>\n",
              "      <th>sentiment</th>\n",
              "    </tr>\n",
              "  </thead>\n",
              "  <tbody>\n",
              "    <tr>\n",
              "      <th>0</th>\n",
              "      <td>Why does it look like someone spit on my food?...</td>\n",
              "      <td>positive</td>\n",
              "    </tr>\n",
              "    <tr>\n",
              "      <th>1</th>\n",
              "      <td>It'd McDonalds. It is what it is as far as the...</td>\n",
              "      <td>positive</td>\n",
              "    </tr>\n",
              "    <tr>\n",
              "      <th>2</th>\n",
              "      <td>Made a mobile order got to the speaker and che...</td>\n",
              "      <td>negative</td>\n",
              "    </tr>\n",
              "    <tr>\n",
              "      <th>3</th>\n",
              "      <td>My mc. Crispy chicken sandwich was Ã¯Â¿Â½Ã¯Â¿Â...</td>\n",
              "      <td>neutral</td>\n",
              "    </tr>\n",
              "    <tr>\n",
              "      <th>4</th>\n",
              "      <td>I repeat my order 3 times in the drive thru, a...</td>\n",
              "      <td>negative</td>\n",
              "    </tr>\n",
              "  </tbody>\n",
              "</table>\n",
              "</div>\n",
              "    <div class=\"colab-df-buttons\">\n",
              "\n",
              "  <div class=\"colab-df-container\">\n",
              "    <button class=\"colab-df-convert\" onclick=\"convertToInteractive('df-a5d7ea4e-6ca7-4795-bcf3-bf895fa5fe94')\"\n",
              "            title=\"Convert this dataframe to an interactive table.\"\n",
              "            style=\"display:none;\">\n",
              "\n",
              "  <svg xmlns=\"http://www.w3.org/2000/svg\" height=\"24px\" viewBox=\"0 -960 960 960\">\n",
              "    <path d=\"M120-120v-720h720v720H120Zm60-500h600v-160H180v160Zm220 220h160v-160H400v160Zm0 220h160v-160H400v160ZM180-400h160v-160H180v160Zm440 0h160v-160H620v160ZM180-180h160v-160H180v160Zm440 0h160v-160H620v160Z\"/>\n",
              "  </svg>\n",
              "    </button>\n",
              "\n",
              "  <style>\n",
              "    .colab-df-container {\n",
              "      display:flex;\n",
              "      gap: 12px;\n",
              "    }\n",
              "\n",
              "    .colab-df-convert {\n",
              "      background-color: #E8F0FE;\n",
              "      border: none;\n",
              "      border-radius: 50%;\n",
              "      cursor: pointer;\n",
              "      display: none;\n",
              "      fill: #1967D2;\n",
              "      height: 32px;\n",
              "      padding: 0 0 0 0;\n",
              "      width: 32px;\n",
              "    }\n",
              "\n",
              "    .colab-df-convert:hover {\n",
              "      background-color: #E2EBFA;\n",
              "      box-shadow: 0px 1px 2px rgba(60, 64, 67, 0.3), 0px 1px 3px 1px rgba(60, 64, 67, 0.15);\n",
              "      fill: #174EA6;\n",
              "    }\n",
              "\n",
              "    .colab-df-buttons div {\n",
              "      margin-bottom: 4px;\n",
              "    }\n",
              "\n",
              "    [theme=dark] .colab-df-convert {\n",
              "      background-color: #3B4455;\n",
              "      fill: #D2E3FC;\n",
              "    }\n",
              "\n",
              "    [theme=dark] .colab-df-convert:hover {\n",
              "      background-color: #434B5C;\n",
              "      box-shadow: 0px 1px 3px 1px rgba(0, 0, 0, 0.15);\n",
              "      filter: drop-shadow(0px 1px 2px rgba(0, 0, 0, 0.3));\n",
              "      fill: #FFFFFF;\n",
              "    }\n",
              "  </style>\n",
              "\n",
              "    <script>\n",
              "      const buttonEl =\n",
              "        document.querySelector('#df-a5d7ea4e-6ca7-4795-bcf3-bf895fa5fe94 button.colab-df-convert');\n",
              "      buttonEl.style.display =\n",
              "        google.colab.kernel.accessAllowed ? 'block' : 'none';\n",
              "\n",
              "      async function convertToInteractive(key) {\n",
              "        const element = document.querySelector('#df-a5d7ea4e-6ca7-4795-bcf3-bf895fa5fe94');\n",
              "        const dataTable =\n",
              "          await google.colab.kernel.invokeFunction('convertToInteractive',\n",
              "                                                    [key], {});\n",
              "        if (!dataTable) return;\n",
              "\n",
              "        const docLinkHtml = 'Like what you see? Visit the ' +\n",
              "          '<a target=\"_blank\" href=https://colab.research.google.com/notebooks/data_table.ipynb>data table notebook</a>'\n",
              "          + ' to learn more about interactive tables.';\n",
              "        element.innerHTML = '';\n",
              "        dataTable['output_type'] = 'display_data';\n",
              "        await google.colab.output.renderOutput(dataTable, element);\n",
              "        const docLink = document.createElement('div');\n",
              "        docLink.innerHTML = docLinkHtml;\n",
              "        element.appendChild(docLink);\n",
              "      }\n",
              "    </script>\n",
              "  </div>\n",
              "\n",
              "\n",
              "<div id=\"df-1538be15-9fa7-4b75-b104-e0de94dd8385\">\n",
              "  <button class=\"colab-df-quickchart\" onclick=\"quickchart('df-1538be15-9fa7-4b75-b104-e0de94dd8385')\"\n",
              "            title=\"Suggest charts.\"\n",
              "            style=\"display:none;\">\n",
              "\n",
              "<svg xmlns=\"http://www.w3.org/2000/svg\" height=\"24px\"viewBox=\"0 0 24 24\"\n",
              "     width=\"24px\">\n",
              "    <g>\n",
              "        <path d=\"M19 3H5c-1.1 0-2 .9-2 2v14c0 1.1.9 2 2 2h14c1.1 0 2-.9 2-2V5c0-1.1-.9-2-2-2zM9 17H7v-7h2v7zm4 0h-2V7h2v10zm4 0h-2v-4h2v4z\"/>\n",
              "    </g>\n",
              "</svg>\n",
              "  </button>\n",
              "\n",
              "<style>\n",
              "  .colab-df-quickchart {\n",
              "      --bg-color: #E8F0FE;\n",
              "      --fill-color: #1967D2;\n",
              "      --hover-bg-color: #E2EBFA;\n",
              "      --hover-fill-color: #174EA6;\n",
              "      --disabled-fill-color: #AAA;\n",
              "      --disabled-bg-color: #DDD;\n",
              "  }\n",
              "\n",
              "  [theme=dark] .colab-df-quickchart {\n",
              "      --bg-color: #3B4455;\n",
              "      --fill-color: #D2E3FC;\n",
              "      --hover-bg-color: #434B5C;\n",
              "      --hover-fill-color: #FFFFFF;\n",
              "      --disabled-bg-color: #3B4455;\n",
              "      --disabled-fill-color: #666;\n",
              "  }\n",
              "\n",
              "  .colab-df-quickchart {\n",
              "    background-color: var(--bg-color);\n",
              "    border: none;\n",
              "    border-radius: 50%;\n",
              "    cursor: pointer;\n",
              "    display: none;\n",
              "    fill: var(--fill-color);\n",
              "    height: 32px;\n",
              "    padding: 0;\n",
              "    width: 32px;\n",
              "  }\n",
              "\n",
              "  .colab-df-quickchart:hover {\n",
              "    background-color: var(--hover-bg-color);\n",
              "    box-shadow: 0 1px 2px rgba(60, 64, 67, 0.3), 0 1px 3px 1px rgba(60, 64, 67, 0.15);\n",
              "    fill: var(--button-hover-fill-color);\n",
              "  }\n",
              "\n",
              "  .colab-df-quickchart-complete:disabled,\n",
              "  .colab-df-quickchart-complete:disabled:hover {\n",
              "    background-color: var(--disabled-bg-color);\n",
              "    fill: var(--disabled-fill-color);\n",
              "    box-shadow: none;\n",
              "  }\n",
              "\n",
              "  .colab-df-spinner {\n",
              "    border: 2px solid var(--fill-color);\n",
              "    border-color: transparent;\n",
              "    border-bottom-color: var(--fill-color);\n",
              "    animation:\n",
              "      spin 1s steps(1) infinite;\n",
              "  }\n",
              "\n",
              "  @keyframes spin {\n",
              "    0% {\n",
              "      border-color: transparent;\n",
              "      border-bottom-color: var(--fill-color);\n",
              "      border-left-color: var(--fill-color);\n",
              "    }\n",
              "    20% {\n",
              "      border-color: transparent;\n",
              "      border-left-color: var(--fill-color);\n",
              "      border-top-color: var(--fill-color);\n",
              "    }\n",
              "    30% {\n",
              "      border-color: transparent;\n",
              "      border-left-color: var(--fill-color);\n",
              "      border-top-color: var(--fill-color);\n",
              "      border-right-color: var(--fill-color);\n",
              "    }\n",
              "    40% {\n",
              "      border-color: transparent;\n",
              "      border-right-color: var(--fill-color);\n",
              "      border-top-color: var(--fill-color);\n",
              "    }\n",
              "    60% {\n",
              "      border-color: transparent;\n",
              "      border-right-color: var(--fill-color);\n",
              "    }\n",
              "    80% {\n",
              "      border-color: transparent;\n",
              "      border-right-color: var(--fill-color);\n",
              "      border-bottom-color: var(--fill-color);\n",
              "    }\n",
              "    90% {\n",
              "      border-color: transparent;\n",
              "      border-bottom-color: var(--fill-color);\n",
              "    }\n",
              "  }\n",
              "</style>\n",
              "\n",
              "  <script>\n",
              "    async function quickchart(key) {\n",
              "      const quickchartButtonEl =\n",
              "        document.querySelector('#' + key + ' button');\n",
              "      quickchartButtonEl.disabled = true;  // To prevent multiple clicks.\n",
              "      quickchartButtonEl.classList.add('colab-df-spinner');\n",
              "      try {\n",
              "        const charts = await google.colab.kernel.invokeFunction(\n",
              "            'suggestCharts', [key], {});\n",
              "      } catch (error) {\n",
              "        console.error('Error during call to suggestCharts:', error);\n",
              "      }\n",
              "      quickchartButtonEl.classList.remove('colab-df-spinner');\n",
              "      quickchartButtonEl.classList.add('colab-df-quickchart-complete');\n",
              "    }\n",
              "    (() => {\n",
              "      let quickchartButtonEl =\n",
              "        document.querySelector('#df-1538be15-9fa7-4b75-b104-e0de94dd8385 button');\n",
              "      quickchartButtonEl.style.display =\n",
              "        google.colab.kernel.accessAllowed ? 'block' : 'none';\n",
              "    })();\n",
              "  </script>\n",
              "</div>\n",
              "    </div>\n",
              "  </div>\n"
            ]
          },
          "metadata": {},
          "execution_count": 4
        }
      ]
    },
    {
      "cell_type": "code",
      "source": [
        "\n",
        "#Check for duplicate values\n",
        "print(\"Checking for duplicate data\")\n",
        "print(\"Total Duplicated values =\", data_set.duplicated().sum())\n",
        "\n",
        "#Check for null values\n",
        "print(\"Checking for null values\")\n",
        "print(\"Total NULL values =\\n\\n\",data_set.isnull().sum())\n",
        "\n",
        "print(\"Sort by no of ratings\")\n",
        "print(data_set['sentiment'].value_counts())"
      ],
      "metadata": {
        "colab": {
          "base_uri": "https://localhost:8080/"
        },
        "id": "Jg2QuvuR6yeG",
        "outputId": "839254bc-6723-4109-8c4f-c04471b3a643"
      },
      "execution_count": 5,
      "outputs": [
        {
          "output_type": "stream",
          "name": "stdout",
          "text": [
            "Checking for duplicate data\n",
            "Total Duplicated values = 11763\n",
            "Checking for null values\n",
            "Total NULL values =\n",
            "\n",
            " review       0\n",
            "sentiment    0\n",
            "dtype: int64\n",
            "Sort by no of ratings\n",
            "positive     18437\n",
            "negative     10321\n",
            "neutral       6639\n",
            "sentiment        1\n",
            "Name: sentiment, dtype: int64\n"
          ]
        }
      ]
    },
    {
      "cell_type": "code",
      "source": [
        "stopwords_set = set(stopwords.words('english'))\n",
        "def processing(text):\n",
        "\n",
        "    # Step 1: Remove Accented Characters\n",
        "    text = unicodedata.normalize('NFKD', text).encode('ascii', 'ignore').decode('utf-8', 'ignore')\n",
        "\n",
        "    # Step 2: Tokenization\n",
        "    tokens = word_tokenize(text)\n",
        "\n",
        "    # Step 3: Stopwords Removal\n",
        "    stop_words = set(stopwords.words('english'))\n",
        "    filtered_tokens = [word for word in tokens if word.lower() not in stop_words]\n",
        "\n",
        "    # Step 4: Remove Numbers and Extra Whitespaces\n",
        "    filtered_tokens = [re.sub(r'\\d+', '', word) for word in filtered_tokens]\n",
        "    filtered_tokens = [word.strip() for word in filtered_tokens if word.strip()]\n",
        "\n",
        "    # Step 5: Lemmatization\n",
        "    lemmatizer = WordNetLemmatizer()\n",
        "    lemmatized_tokens = [lemmatizer.lemmatize(word) for word in filtered_tokens]\n",
        "\n",
        "    # Step 6: Stemming (optional)\n",
        "    stemmer = PorterStemmer()\n",
        "    stemmed_tokens = [stemmer.stem(word) for word in lemmatized_tokens]\n",
        "\n",
        "    # Step 7: Remove Single Letters\n",
        "    filtered_tokens = [word for word in stemmed_tokens if len(word) > 1]\n",
        "\n",
        "    # Join the tokens back into a clean text string\n",
        "    clean_text = ' '.join(filtered_tokens)\n",
        "\n",
        "\n",
        "    return clean_text"
      ],
      "metadata": {
        "id": "Op-5JPKu6yh6"
      },
      "execution_count": 6,
      "outputs": []
    },
    {
      "cell_type": "code",
      "source": [
        "i=0\n",
        "for reviews in data_set['review']:\n",
        "  data_set.at[i,'review'] = processing(reviews)\n",
        "  # data_set.at[i,'rating']= data_set.at[i,'rating'][0]\n",
        "  # data_set.at[i,'review_time'] = convert_time_to_days(data_set.at[i,'review_time'])\n",
        "  # print(convert_time_to_days(data_set.at[i,'review_time']))\n",
        "  # if i==5:\n",
        "  #   break\n",
        "  i+=1\n",
        "data_set.head()\n",
        "\n",
        "random_sample = data_set.sample(n=20, random_state=42)\n",
        "random_sample\n",
        "\n",
        "sia = SentimentIntensityAnalyzer()\n",
        "sentiments = []"
      ],
      "metadata": {
        "id": "2WK9YrQx689a"
      },
      "execution_count": 7,
      "outputs": []
    },
    {
      "cell_type": "code",
      "source": [
        "for review in data_set['review']:\n",
        "    sentiment = sia.polarity_scores(review)\n",
        "    sentiments.append(sentiment)\n",
        "\n",
        "i=0\n",
        "while i!=10:\n",
        "  print(sentiments[i])\n",
        "  i+=1\n",
        "\n",
        "sentiment_labels = []\n",
        "\n",
        "for sentiment in sentiments:\n",
        "    compound_score = sentiment['compound']\n",
        "    # compound_score = sentiment\n",
        "    if compound_score >= 0.05:\n",
        "        sentiment_labels.append(1)\n",
        "    elif compound_score <= -0.05:\n",
        "        sentiment_labels.append(-1)\n",
        "    else:\n",
        "        sentiment_labels.append(0)"
      ],
      "metadata": {
        "colab": {
          "base_uri": "https://localhost:8080/"
        },
        "id": "u6aLQlLg7HOA",
        "outputId": "5475b4bf-c97c-43aa-f649-86738eedfad9"
      },
      "execution_count": 8,
      "outputs": [
        {
          "output_type": "stream",
          "name": "stdout",
          "text": [
            "{'neg': 0.047, 'neu': 0.769, 'pos': 0.184, 'compound': 0.5541}\n",
            "{'neg': 0.0, 'neu': 0.756, 'pos': 0.244, 'compound': 0.7003}\n",
            "{'neg': 0.032, 'neu': 0.968, 'pos': 0.0, 'compound': -0.25}\n",
            "{'neg': 0.0, 'neu': 1.0, 'pos': 0.0, 'compound': 0.0}\n",
            "{'neg': 0.2, 'neu': 0.8, 'pos': 0.0, 'compound': -0.7184}\n",
            "{'neg': 0.0, 'neu': 1.0, 'pos': 0.0, 'compound': 0.0}\n",
            "{'neg': 0.025, 'neu': 0.951, 'pos': 0.023, 'compound': -0.0423}\n",
            "{'neg': 0.029, 'neu': 0.84, 'pos': 0.13, 'compound': 0.7003}\n",
            "{'neg': 0.125, 'neu': 0.875, 'pos': 0.0, 'compound': -0.25}\n",
            "{'neg': 0.024, 'neu': 0.64, 'pos': 0.336, 'compound': 0.9759}\n"
          ]
        }
      ]
    },
    {
      "cell_type": "code",
      "source": [
        "data_set['sentiment'] = sentiment_labels\n",
        "data_set[['review', 'sentiment']]\n",
        "\n",
        "X = data_set['review']\n",
        "y = data_set['sentiment']\n",
        "X_train, X_test, y_train, y_test = train_test_split(X, y, test_size=0.2, random_state=42)\n",
        "\n",
        "vectorizer = TfidfVectorizer()\n",
        "X_train_tfidf = vectorizer.fit_transform(X_train)\n",
        "X_test_tfidf = vectorizer.transform(X_test)"
      ],
      "metadata": {
        "id": "9QqgirWU7KEl"
      },
      "execution_count": 9,
      "outputs": []
    },
    {
      "cell_type": "code",
      "source": [
        "# Create a LinearSVC model\n",
        "linear_svc_model = LinearSVC()\n",
        "\n",
        "# Fit the model to the TF-IDF training data\n",
        "linear_svc_model.fit(X_train_tfidf, y_train)\n",
        "\n",
        "# Predict on the TF-IDF test data\n",
        "linear_svc_y_pred = linear_svc_model.predict(X_test_tfidf)\n",
        "\n",
        "# Calculate accuracy and print the results\n",
        "linear_svc_accuracy = accuracy_score(y_test, linear_svc_y_pred)\n",
        "print(\"LinearSVC Accuracy:\", linear_svc_accuracy)\n",
        "print(\"Classification Report:\")\n",
        "print(classification_report(y_test, linear_svc_y_pred))\n",
        "\n",
        "# Create a MultinomialNB model\n",
        "naive_bayes_model = MultinomialNB()\n",
        "\n",
        "# Fit the model to the TF-IDF training data\n",
        "naive_bayes_model.fit(X_train_tfidf, y_train)\n",
        "\n",
        "# Predict on the TF-IDF test data\n",
        "naive_bayes_y_pred = naive_bayes_model.predict(X_test_tfidf)"
      ],
      "metadata": {
        "colab": {
          "base_uri": "https://localhost:8080/"
        },
        "id": "QSbEx_ip7KIo",
        "outputId": "ba226c12-406c-43cd-b3ca-79359e9d5036"
      },
      "execution_count": 10,
      "outputs": [
        {
          "output_type": "stream",
          "name": "stdout",
          "text": [
            "LinearSVC Accuracy: 0.928954802259887\n",
            "Classification Report:\n",
            "              precision    recall  f1-score   support\n",
            "\n",
            "          -1       0.89      0.83      0.86      1441\n",
            "           0       0.92      0.96      0.94      1958\n",
            "           1       0.95      0.95      0.95      3681\n",
            "\n",
            "    accuracy                           0.93      7080\n",
            "   macro avg       0.92      0.91      0.92      7080\n",
            "weighted avg       0.93      0.93      0.93      7080\n",
            "\n"
          ]
        }
      ]
    },
    {
      "cell_type": "code",
      "source": [
        "\n",
        "# Calculate accuracy and print the results\n",
        "naive_bayes_accuracy = accuracy_score(y_test, naive_bayes_y_pred)\n",
        "print(\"Multinomial Naive Bayes Accuracy:\", naive_bayes_accuracy)\n",
        "print(\"Classification Report:\")\n",
        "print(classification_report(y_test, naive_bayes_y_pred))"
      ],
      "metadata": {
        "colab": {
          "base_uri": "https://localhost:8080/"
        },
        "id": "mGdLqNn_7emx",
        "outputId": "85249b01-cfad-4039-d7b9-916a9b8a71d2"
      },
      "execution_count": 11,
      "outputs": [
        {
          "output_type": "stream",
          "name": "stdout",
          "text": [
            "Multinomial Naive Bayes Accuracy: 0.7283898305084746\n",
            "Classification Report:\n",
            "              precision    recall  f1-score   support\n",
            "\n",
            "          -1       0.86      0.54      0.66      1441\n",
            "           0       0.95      0.39      0.56      1958\n",
            "           1       0.67      0.98      0.80      3681\n",
            "\n",
            "    accuracy                           0.73      7080\n",
            "   macro avg       0.83      0.64      0.67      7080\n",
            "weighted avg       0.79      0.73      0.70      7080\n",
            "\n"
          ]
        }
      ]
    },
    {
      "cell_type": "code",
      "source": [
        "# Create a Logistic Regression model\n",
        "logistic_regression_model = LogisticRegression()\n",
        "\n",
        "# Fit the model to the TF-IDF training data\n",
        "logistic_regression_model.fit(X_train_tfidf, y_train)\n",
        "\n",
        "# Predict on the TF-IDF test data\n",
        "logistic_regression_y_pred = logistic_regression_model.predict(X_test_tfidf)"
      ],
      "metadata": {
        "colab": {
          "base_uri": "https://localhost:8080/"
        },
        "id": "fS6XaaYT7msR",
        "outputId": "0c05dc5b-49b4-4ffb-969b-bea85e51b5c1"
      },
      "execution_count": 12,
      "outputs": [
        {
          "output_type": "stream",
          "name": "stderr",
          "text": [
            "/usr/local/lib/python3.10/dist-packages/sklearn/linear_model/_logistic.py:458: ConvergenceWarning: lbfgs failed to converge (status=1):\n",
            "STOP: TOTAL NO. of ITERATIONS REACHED LIMIT.\n",
            "\n",
            "Increase the number of iterations (max_iter) or scale the data as shown in:\n",
            "    https://scikit-learn.org/stable/modules/preprocessing.html\n",
            "Please also refer to the documentation for alternative solver options:\n",
            "    https://scikit-learn.org/stable/modules/linear_model.html#logistic-regression\n",
            "  n_iter_i = _check_optimize_result(\n"
          ]
        }
      ]
    },
    {
      "cell_type": "code",
      "source": [
        "# Calculate accuracy and print the results\n",
        "logistic_regression_accuracy = accuracy_score(y_test, logistic_regression_y_pred)\n",
        "print(\"Logistic Regression Accuracy:\", logistic_regression_accuracy)\n",
        "print(\"Classification Report:\")\n",
        "print(classification_report(y_test, logistic_regression_y_pred))"
      ],
      "metadata": {
        "colab": {
          "base_uri": "https://localhost:8080/"
        },
        "id": "sOcJg4ZQ7mvs",
        "outputId": "96a3c5d8-46fc-4965-9b4e-5f7f0dec2a82"
      },
      "execution_count": 13,
      "outputs": [
        {
          "output_type": "stream",
          "name": "stdout",
          "text": [
            "Logistic Regression Accuracy: 0.9088983050847458\n",
            "Classification Report:\n",
            "              precision    recall  f1-score   support\n",
            "\n",
            "          -1       0.87      0.76      0.81      1441\n",
            "           0       0.87      0.95      0.91      1958\n",
            "           1       0.94      0.94      0.94      3681\n",
            "\n",
            "    accuracy                           0.91      7080\n",
            "   macro avg       0.90      0.89      0.89      7080\n",
            "weighted avg       0.91      0.91      0.91      7080\n",
            "\n"
          ]
        }
      ]
    },
    {
      "cell_type": "code",
      "source": [
        "# Create a Random Forest model\n",
        "random_forest_model = RandomForestClassifier()\n",
        "\n",
        "# Fit the model to the TF-IDF training data\n",
        "random_forest_model.fit(X_train_tfidf, y_train)\n",
        "\n",
        "# Predict on the TF-IDF test data\n",
        "random_forest_y_pred = random_forest_model.predict(X_test_tfidf)"
      ],
      "metadata": {
        "id": "u7gihq5-7u57"
      },
      "execution_count": 14,
      "outputs": []
    },
    {
      "cell_type": "code",
      "source": [
        "# Calculate accuracy and print the results\n",
        "random_forest_accuracy = accuracy_score(y_test, random_forest_y_pred)\n",
        "print(\"Random Forest Accuracy:\", random_forest_accuracy)\n",
        "print(\"Classification Report:\")\n",
        "print(classification_report(y_test, random_forest_y_pred))\n",
        "\n",
        "model1 = LinearSVC()\n",
        "model2 = MultinomialNB()\n",
        "model3 = LogisticRegression()\n",
        "\n",
        "ensemble_model = VotingClassifier(\n",
        "    estimators=[('model1', model1), ('model2', model2), ('model3', model3)],\n",
        "    voting='hard'  # You can choose 'hard' or 'soft' voting depending on your use case\n",
        ")"
      ],
      "metadata": {
        "colab": {
          "base_uri": "https://localhost:8080/"
        },
        "id": "n_1TGWvY7vBQ",
        "outputId": "714941c2-3bc1-4eed-9b45-9598d25f1f8d"
      },
      "execution_count": 15,
      "outputs": [
        {
          "output_type": "stream",
          "name": "stdout",
          "text": [
            "Random Forest Accuracy: 0.9269774011299435\n",
            "Classification Report:\n",
            "              precision    recall  f1-score   support\n",
            "\n",
            "          -1       0.92      0.81      0.86      1441\n",
            "           0       0.90      0.96      0.93      1958\n",
            "           1       0.94      0.96      0.95      3681\n",
            "\n",
            "    accuracy                           0.93      7080\n",
            "   macro avg       0.92      0.91      0.91      7080\n",
            "weighted avg       0.93      0.93      0.93      7080\n",
            "\n"
          ]
        }
      ]
    },
    {
      "cell_type": "code",
      "source": [
        "\n",
        "\n",
        "# Fit the ensemble model on the training data\n",
        "ensemble_model.fit(X_train_tfidf, y_train)\n",
        "\n",
        "# Make predictions using the ensemble model\n",
        "y_pred = ensemble_model.predict(X_test_tfidf)\n",
        "\n",
        "# Evaluate the performance of the ensemble model (you can use different metrics)\n",
        "accuracy = accuracy_score(y_test, y_pred)\n",
        "print(f'Ensemble Model Accuracy: {accuracy:.2f}')\n",
        "\n",
        "# Finally, you can use the trained ensemble model to make predictions on your test data\n",
        "y_test_pred = ensemble_model.predict(X_test_tfidf)\n",
        "\n",
        "# Save the ensemble model\n",
        "joblib.dump(ensemble_model, 'ensemble_model_1.joblib')\n",
        "joblib.dump(vectorizer, 'tfidf_vectorizer_1.joblib')\n",
        "\n",
        "loaded_model = joblib.load('ensemble_model_1.joblib')\n",
        "loaded_vectorizer = joblib.load('tfidf_vectorizer_1.joblib')\n",
        "Input=\"The delectable aroma of the freshly baked bread filled the air as I stepped into the cozy bakery. The warm, crusty baguette I ordered was a delightful treat. It had a perfect crunch on the outside and a soft, airy interior. Absolutely delicious!\"\n",
        "input_vector = loaded_vectorizer.transform([processing(Input)])\n",
        "predicted_rating = loaded_model.predict(input_vector)\n",
        "print(\"Predicted Rating:\", predicted_rating)"
      ],
      "metadata": {
        "colab": {
          "base_uri": "https://localhost:8080/"
        },
        "id": "5jqLmCbK71Az",
        "outputId": "38d57907-7653-4391-a62d-27ee73f951d6"
      },
      "execution_count": 16,
      "outputs": [
        {
          "output_type": "stream",
          "name": "stderr",
          "text": [
            "/usr/local/lib/python3.10/dist-packages/sklearn/linear_model/_logistic.py:458: ConvergenceWarning: lbfgs failed to converge (status=1):\n",
            "STOP: TOTAL NO. of ITERATIONS REACHED LIMIT.\n",
            "\n",
            "Increase the number of iterations (max_iter) or scale the data as shown in:\n",
            "    https://scikit-learn.org/stable/modules/preprocessing.html\n",
            "Please also refer to the documentation for alternative solver options:\n",
            "    https://scikit-learn.org/stable/modules/linear_model.html#logistic-regression\n",
            "  n_iter_i = _check_optimize_result(\n"
          ]
        },
        {
          "output_type": "stream",
          "name": "stdout",
          "text": [
            "Ensemble Model Accuracy: 0.93\n",
            "Predicted Rating: [1]\n"
          ]
        }
      ]
    }
  ]
}